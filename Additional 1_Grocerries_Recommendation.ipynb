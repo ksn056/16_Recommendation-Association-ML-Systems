{
 "cells": [
  {
   "cell_type": "code",
   "execution_count": 1,
   "metadata": {
    "colab": {
     "base_uri": "https://localhost:8080/"
    },
    "executionInfo": {
     "elapsed": 43,
     "status": "ok",
     "timestamp": 1673101027955,
     "user": {
      "displayName": "KIPTURN Techno Solutions",
      "userId": "01744339202873123277"
     },
     "user_tz": -330
    },
    "id": "N2R9MyRjRDCd",
    "outputId": "217bfaa3-b6bd-456d-8d3b-4eacf42349e8"
   },
   "outputs": [
    {
     "name": "stderr",
     "output_type": "stream",
     "text": [
      "'wget' is not recognized as an internal or external command,\n",
      "operable program or batch file.\n"
     ]
    }
   ],
   "source": [
    "!wget https://www.dropbox.com/s/iivd4novdhlk7lb/groceries.csv"
   ]
  },
  {
   "cell_type": "code",
   "execution_count": 2,
   "metadata": {
    "executionInfo": {
     "elapsed": 664,
     "status": "ok",
     "timestamp": 1673101240096,
     "user": {
      "displayName": "KIPTURN Techno Solutions",
      "userId": "01744339202873123277"
     },
     "user_tz": -330
    },
    "id": "_nJ0qpKCRSVt"
   },
   "outputs": [],
   "source": [
    "import pandas as pd\n",
    "import numpy as np"
   ]
  },
  {
   "cell_type": "code",
   "execution_count": 3,
   "metadata": {
    "executionInfo": {
     "elapsed": 384,
     "status": "ok",
     "timestamp": 1673101366999,
     "user": {
      "displayName": "KIPTURN Techno Solutions",
      "userId": "01744339202873123277"
     },
     "user_tz": -330
    },
    "id": "l-DsRslMRVxv"
   },
   "outputs": [
    {
     "ename": "FileNotFoundError",
     "evalue": "[Errno 2] No such file or directory: 'groceries.csv'",
     "output_type": "error",
     "traceback": [
      "\u001b[1;31m---------------------------------------------------------------------------\u001b[0m",
      "\u001b[1;31mFileNotFoundError\u001b[0m                         Traceback (most recent call last)",
      "\u001b[1;32m~\\AppData\\Local\\Temp/ipykernel_12252/1458083343.py\u001b[0m in \u001b[0;36m<module>\u001b[1;34m\u001b[0m\n\u001b[1;32m----> 1\u001b[1;33m \u001b[0mfile_obj\u001b[0m \u001b[1;33m=\u001b[0m \u001b[0mopen\u001b[0m\u001b[1;33m(\u001b[0m\u001b[1;34m'groceries.csv'\u001b[0m\u001b[1;33m,\u001b[0m\u001b[1;34m'rt'\u001b[0m\u001b[1;33m)\u001b[0m\u001b[1;33m\u001b[0m\u001b[1;33m\u001b[0m\u001b[0m\n\u001b[0m\u001b[0;32m      2\u001b[0m \u001b[0mcontent\u001b[0m \u001b[1;33m=\u001b[0m \u001b[0mfile_obj\u001b[0m\u001b[1;33m.\u001b[0m\u001b[0mreadlines\u001b[0m\u001b[1;33m(\u001b[0m\u001b[1;33m)\u001b[0m\u001b[1;33m\u001b[0m\u001b[1;33m\u001b[0m\u001b[0m\n\u001b[0;32m      3\u001b[0m \u001b[0mfile_obj\u001b[0m\u001b[1;33m.\u001b[0m\u001b[0mclose\u001b[0m\u001b[1;33m(\u001b[0m\u001b[1;33m)\u001b[0m\u001b[1;33m\u001b[0m\u001b[1;33m\u001b[0m\u001b[0m\n",
      "\u001b[1;31mFileNotFoundError\u001b[0m: [Errno 2] No such file or directory: 'groceries.csv'"
     ]
    }
   ],
   "source": [
    "file_obj = open('groceries.csv','rt')\n",
    "content = file_obj.readlines()\n",
    "file_obj.close()"
   ]
  },
  {
   "cell_type": "code",
   "execution_count": 3,
   "metadata": {},
   "outputs": [
    {
     "ename": "ParserError",
     "evalue": "Error tokenizing data. C error: Expected 4 fields in line 6, saw 5\n",
     "output_type": "error",
     "traceback": [
      "\u001b[1;31m---------------------------------------------------------------------------\u001b[0m",
      "\u001b[1;31mParserError\u001b[0m                               Traceback (most recent call last)",
      "\u001b[1;32m~\\AppData\\Local\\Temp/ipykernel_25632/1835488378.py\u001b[0m in \u001b[0;36m<module>\u001b[1;34m\u001b[0m\n\u001b[0;32m      1\u001b[0m \u001b[0mpath\u001b[0m \u001b[1;33m=\u001b[0m \u001b[1;34m'groceries.csv'\u001b[0m\u001b[1;33m\u001b[0m\u001b[1;33m\u001b[0m\u001b[0m\n\u001b[1;32m----> 2\u001b[1;33m \u001b[0mdf\u001b[0m \u001b[1;33m=\u001b[0m \u001b[0mpd\u001b[0m\u001b[1;33m.\u001b[0m\u001b[0mread_csv\u001b[0m\u001b[1;33m(\u001b[0m\u001b[0mpath\u001b[0m\u001b[1;33m)\u001b[0m\u001b[1;33m\u001b[0m\u001b[1;33m\u001b[0m\u001b[0m\n\u001b[0m\u001b[0;32m      3\u001b[0m \u001b[1;33m\u001b[0m\u001b[0m\n\u001b[0;32m      4\u001b[0m \u001b[0mdf\u001b[0m\u001b[1;33m.\u001b[0m\u001b[0mhead\u001b[0m\u001b[1;33m(\u001b[0m\u001b[1;33m)\u001b[0m\u001b[1;33m\u001b[0m\u001b[1;33m\u001b[0m\u001b[0m\n",
      "\u001b[1;32m~\\Anaconda3\\lib\\site-packages\\pandas\\util\\_decorators.py\u001b[0m in \u001b[0;36mwrapper\u001b[1;34m(*args, **kwargs)\u001b[0m\n\u001b[0;32m    309\u001b[0m                     \u001b[0mstacklevel\u001b[0m\u001b[1;33m=\u001b[0m\u001b[0mstacklevel\u001b[0m\u001b[1;33m,\u001b[0m\u001b[1;33m\u001b[0m\u001b[1;33m\u001b[0m\u001b[0m\n\u001b[0;32m    310\u001b[0m                 )\n\u001b[1;32m--> 311\u001b[1;33m             \u001b[1;32mreturn\u001b[0m \u001b[0mfunc\u001b[0m\u001b[1;33m(\u001b[0m\u001b[1;33m*\u001b[0m\u001b[0margs\u001b[0m\u001b[1;33m,\u001b[0m \u001b[1;33m**\u001b[0m\u001b[0mkwargs\u001b[0m\u001b[1;33m)\u001b[0m\u001b[1;33m\u001b[0m\u001b[1;33m\u001b[0m\u001b[0m\n\u001b[0m\u001b[0;32m    312\u001b[0m \u001b[1;33m\u001b[0m\u001b[0m\n\u001b[0;32m    313\u001b[0m         \u001b[1;32mreturn\u001b[0m \u001b[0mwrapper\u001b[0m\u001b[1;33m\u001b[0m\u001b[1;33m\u001b[0m\u001b[0m\n",
      "\u001b[1;32m~\\Anaconda3\\lib\\site-packages\\pandas\\io\\parsers\\readers.py\u001b[0m in \u001b[0;36mread_csv\u001b[1;34m(filepath_or_buffer, sep, delimiter, header, names, index_col, usecols, squeeze, prefix, mangle_dupe_cols, dtype, engine, converters, true_values, false_values, skipinitialspace, skiprows, skipfooter, nrows, na_values, keep_default_na, na_filter, verbose, skip_blank_lines, parse_dates, infer_datetime_format, keep_date_col, date_parser, dayfirst, cache_dates, iterator, chunksize, compression, thousands, decimal, lineterminator, quotechar, quoting, doublequote, escapechar, comment, encoding, encoding_errors, dialect, error_bad_lines, warn_bad_lines, on_bad_lines, delim_whitespace, low_memory, memory_map, float_precision, storage_options)\u001b[0m\n\u001b[0;32m    584\u001b[0m     \u001b[0mkwds\u001b[0m\u001b[1;33m.\u001b[0m\u001b[0mupdate\u001b[0m\u001b[1;33m(\u001b[0m\u001b[0mkwds_defaults\u001b[0m\u001b[1;33m)\u001b[0m\u001b[1;33m\u001b[0m\u001b[1;33m\u001b[0m\u001b[0m\n\u001b[0;32m    585\u001b[0m \u001b[1;33m\u001b[0m\u001b[0m\n\u001b[1;32m--> 586\u001b[1;33m     \u001b[1;32mreturn\u001b[0m \u001b[0m_read\u001b[0m\u001b[1;33m(\u001b[0m\u001b[0mfilepath_or_buffer\u001b[0m\u001b[1;33m,\u001b[0m \u001b[0mkwds\u001b[0m\u001b[1;33m)\u001b[0m\u001b[1;33m\u001b[0m\u001b[1;33m\u001b[0m\u001b[0m\n\u001b[0m\u001b[0;32m    587\u001b[0m \u001b[1;33m\u001b[0m\u001b[0m\n\u001b[0;32m    588\u001b[0m \u001b[1;33m\u001b[0m\u001b[0m\n",
      "\u001b[1;32m~\\Anaconda3\\lib\\site-packages\\pandas\\io\\parsers\\readers.py\u001b[0m in \u001b[0;36m_read\u001b[1;34m(filepath_or_buffer, kwds)\u001b[0m\n\u001b[0;32m    486\u001b[0m \u001b[1;33m\u001b[0m\u001b[0m\n\u001b[0;32m    487\u001b[0m     \u001b[1;32mwith\u001b[0m \u001b[0mparser\u001b[0m\u001b[1;33m:\u001b[0m\u001b[1;33m\u001b[0m\u001b[1;33m\u001b[0m\u001b[0m\n\u001b[1;32m--> 488\u001b[1;33m         \u001b[1;32mreturn\u001b[0m \u001b[0mparser\u001b[0m\u001b[1;33m.\u001b[0m\u001b[0mread\u001b[0m\u001b[1;33m(\u001b[0m\u001b[0mnrows\u001b[0m\u001b[1;33m)\u001b[0m\u001b[1;33m\u001b[0m\u001b[1;33m\u001b[0m\u001b[0m\n\u001b[0m\u001b[0;32m    489\u001b[0m \u001b[1;33m\u001b[0m\u001b[0m\n\u001b[0;32m    490\u001b[0m \u001b[1;33m\u001b[0m\u001b[0m\n",
      "\u001b[1;32m~\\Anaconda3\\lib\\site-packages\\pandas\\io\\parsers\\readers.py\u001b[0m in \u001b[0;36mread\u001b[1;34m(self, nrows)\u001b[0m\n\u001b[0;32m   1045\u001b[0m     \u001b[1;32mdef\u001b[0m \u001b[0mread\u001b[0m\u001b[1;33m(\u001b[0m\u001b[0mself\u001b[0m\u001b[1;33m,\u001b[0m \u001b[0mnrows\u001b[0m\u001b[1;33m=\u001b[0m\u001b[1;32mNone\u001b[0m\u001b[1;33m)\u001b[0m\u001b[1;33m:\u001b[0m\u001b[1;33m\u001b[0m\u001b[1;33m\u001b[0m\u001b[0m\n\u001b[0;32m   1046\u001b[0m         \u001b[0mnrows\u001b[0m \u001b[1;33m=\u001b[0m \u001b[0mvalidate_integer\u001b[0m\u001b[1;33m(\u001b[0m\u001b[1;34m\"nrows\"\u001b[0m\u001b[1;33m,\u001b[0m \u001b[0mnrows\u001b[0m\u001b[1;33m)\u001b[0m\u001b[1;33m\u001b[0m\u001b[1;33m\u001b[0m\u001b[0m\n\u001b[1;32m-> 1047\u001b[1;33m         \u001b[0mindex\u001b[0m\u001b[1;33m,\u001b[0m \u001b[0mcolumns\u001b[0m\u001b[1;33m,\u001b[0m \u001b[0mcol_dict\u001b[0m \u001b[1;33m=\u001b[0m \u001b[0mself\u001b[0m\u001b[1;33m.\u001b[0m\u001b[0m_engine\u001b[0m\u001b[1;33m.\u001b[0m\u001b[0mread\u001b[0m\u001b[1;33m(\u001b[0m\u001b[0mnrows\u001b[0m\u001b[1;33m)\u001b[0m\u001b[1;33m\u001b[0m\u001b[1;33m\u001b[0m\u001b[0m\n\u001b[0m\u001b[0;32m   1048\u001b[0m \u001b[1;33m\u001b[0m\u001b[0m\n\u001b[0;32m   1049\u001b[0m         \u001b[1;32mif\u001b[0m \u001b[0mindex\u001b[0m \u001b[1;32mis\u001b[0m \u001b[1;32mNone\u001b[0m\u001b[1;33m:\u001b[0m\u001b[1;33m\u001b[0m\u001b[1;33m\u001b[0m\u001b[0m\n",
      "\u001b[1;32m~\\Anaconda3\\lib\\site-packages\\pandas\\io\\parsers\\c_parser_wrapper.py\u001b[0m in \u001b[0;36mread\u001b[1;34m(self, nrows)\u001b[0m\n\u001b[0;32m    221\u001b[0m         \u001b[1;32mtry\u001b[0m\u001b[1;33m:\u001b[0m\u001b[1;33m\u001b[0m\u001b[1;33m\u001b[0m\u001b[0m\n\u001b[0;32m    222\u001b[0m             \u001b[1;32mif\u001b[0m \u001b[0mself\u001b[0m\u001b[1;33m.\u001b[0m\u001b[0mlow_memory\u001b[0m\u001b[1;33m:\u001b[0m\u001b[1;33m\u001b[0m\u001b[1;33m\u001b[0m\u001b[0m\n\u001b[1;32m--> 223\u001b[1;33m                 \u001b[0mchunks\u001b[0m \u001b[1;33m=\u001b[0m \u001b[0mself\u001b[0m\u001b[1;33m.\u001b[0m\u001b[0m_reader\u001b[0m\u001b[1;33m.\u001b[0m\u001b[0mread_low_memory\u001b[0m\u001b[1;33m(\u001b[0m\u001b[0mnrows\u001b[0m\u001b[1;33m)\u001b[0m\u001b[1;33m\u001b[0m\u001b[1;33m\u001b[0m\u001b[0m\n\u001b[0m\u001b[0;32m    224\u001b[0m                 \u001b[1;31m# destructive to chunks\u001b[0m\u001b[1;33m\u001b[0m\u001b[1;33m\u001b[0m\u001b[0m\n\u001b[0;32m    225\u001b[0m                 \u001b[0mdata\u001b[0m \u001b[1;33m=\u001b[0m \u001b[0m_concatenate_chunks\u001b[0m\u001b[1;33m(\u001b[0m\u001b[0mchunks\u001b[0m\u001b[1;33m)\u001b[0m\u001b[1;33m\u001b[0m\u001b[1;33m\u001b[0m\u001b[0m\n",
      "\u001b[1;32m~\\Anaconda3\\lib\\site-packages\\pandas\\_libs\\parsers.pyx\u001b[0m in \u001b[0;36mpandas._libs.parsers.TextReader.read_low_memory\u001b[1;34m()\u001b[0m\n",
      "\u001b[1;32m~\\Anaconda3\\lib\\site-packages\\pandas\\_libs\\parsers.pyx\u001b[0m in \u001b[0;36mpandas._libs.parsers.TextReader._read_rows\u001b[1;34m()\u001b[0m\n",
      "\u001b[1;32m~\\Anaconda3\\lib\\site-packages\\pandas\\_libs\\parsers.pyx\u001b[0m in \u001b[0;36mpandas._libs.parsers.TextReader._tokenize_rows\u001b[1;34m()\u001b[0m\n",
      "\u001b[1;32m~\\Anaconda3\\lib\\site-packages\\pandas\\_libs\\parsers.pyx\u001b[0m in \u001b[0;36mpandas._libs.parsers.raise_parser_error\u001b[1;34m()\u001b[0m\n",
      "\u001b[1;31mParserError\u001b[0m: Error tokenizing data. C error: Expected 4 fields in line 6, saw 5\n"
     ]
    }
   ],
   "source": [
    "path = 'groceries.csv'\n",
    "df = pd.read_csv(path)\n",
    "   \n",
    "df.head() "
   ]
  },
  {
   "cell_type": "code",
   "execution_count": null,
   "metadata": {
    "colab": {
     "base_uri": "https://localhost:8080/"
    },
    "executionInfo": {
     "elapsed": 14,
     "status": "ok",
     "timestamp": 1673101761144,
     "user": {
      "displayName": "KIPTURN Techno Solutions",
      "userId": "01744339202873123277"
     },
     "user_tz": -330
    },
    "id": "7zb-GagJR9pw",
    "outputId": "3de73de7-cd98-48e0-e46c-a136ad4d1cef"
   },
   "outputs": [],
   "source": [
    "content[0:5] # first 2 rows"
   ]
  },
  {
   "cell_type": "code",
   "execution_count": null,
   "metadata": {
    "colab": {
     "base_uri": "https://localhost:8080/",
     "height": 35
    },
    "executionInfo": {
     "elapsed": 381,
     "status": "ok",
     "timestamp": 1673101620682,
     "user": {
      "displayName": "KIPTURN Techno Solutions",
      "userId": "01744339202873123277"
     },
     "user_tz": -330
    },
    "id": "2Y1sshZKSB1m",
    "outputId": "172cd0bf-1b47-4871-e233-18794b6a28b5"
   },
   "outputs": [],
   "source": [
    "'citrus fruit,semi-finished bread,margarine,ready soups\\n'.strip()"
   ]
  },
  {
   "cell_type": "code",
   "execution_count": null,
   "metadata": {
    "colab": {
     "base_uri": "https://localhost:8080/",
     "height": 35
    },
    "executionInfo": {
     "elapsed": 25,
     "status": "ok",
     "timestamp": 1673101656778,
     "user": {
      "displayName": "KIPTURN Techno Solutions",
      "userId": "01744339202873123277"
     },
     "user_tz": -330
    },
    "id": "JoOZ8ExuoOV6",
    "outputId": "dd9acd32-bec3-4981-ec5f-1638af3e8198"
   },
   "outputs": [],
   "source": [
    "'tropical fruit,yogurt,coffee\\n'.strip()"
   ]
  },
  {
   "cell_type": "code",
   "execution_count": null,
   "metadata": {
    "executionInfo": {
     "elapsed": 419,
     "status": "ok",
     "timestamp": 1673101780144,
     "user": {
      "displayName": "KIPTURN Techno Solutions",
      "userId": "01744339202873123277"
     },
     "user_tz": -330
    },
    "id": "kWM2EM5cSP8v"
   },
   "outputs": [],
   "source": [
    "txns = [x.strip() for x in content]"
   ]
  },
  {
   "cell_type": "code",
   "execution_count": null,
   "metadata": {
    "colab": {
     "base_uri": "https://localhost:8080/"
    },
    "executionInfo": {
     "elapsed": 395,
     "status": "ok",
     "timestamp": 1673101782499,
     "user": {
      "displayName": "KIPTURN Techno Solutions",
      "userId": "01744339202873123277"
     },
     "user_tz": -330
    },
    "id": "TX0YC8ZSSgaA",
    "outputId": "440a48ca-9f58-4ea0-eed4-1dbc90df9c65"
   },
   "outputs": [],
   "source": [
    "txns[:5]"
   ]
  },
  {
   "cell_type": "code",
   "execution_count": null,
   "metadata": {
    "colab": {
     "base_uri": "https://localhost:8080/"
    },
    "executionInfo": {
     "elapsed": 597,
     "status": "ok",
     "timestamp": 1673101929988,
     "user": {
      "displayName": "KIPTURN Techno Solutions",
      "userId": "01744339202873123277"
     },
     "user_tz": -330
    },
    "id": "2zsSKGXGSmPD",
    "outputId": "d0370a6c-7398-4ff3-ca35-35dbdcc21e81"
   },
   "outputs": [],
   "source": [
    "'citrus fruit,semi-finished bread,margarine,ready soups'.split(\",\")"
   ]
  },
  {
   "cell_type": "code",
   "execution_count": null,
   "metadata": {
    "colab": {
     "base_uri": "https://localhost:8080/"
    },
    "executionInfo": {
     "elapsed": 566,
     "status": "ok",
     "timestamp": 1673102029490,
     "user": {
      "displayName": "KIPTURN Techno Solutions",
      "userId": "01744339202873123277"
     },
     "user_tz": -330
    },
    "id": "nKykOwppSv90",
    "outputId": "96e687f9-7556-462a-96a7-dffc7cf77806"
   },
   "outputs": [],
   "source": [
    "all_txns = [each_txn.split(\",\") for each_txn in txns]\n",
    "all_txns[:5]"
   ]
  },
  {
   "cell_type": "code",
   "execution_count": null,
   "metadata": {
    "executionInfo": {
     "elapsed": 1011,
     "status": "ok",
     "timestamp": 1673102315062,
     "user": {
      "displayName": "KIPTURN Techno Solutions",
      "userId": "01744339202873123277"
     },
     "user_tz": -330
    },
    "id": "Xfz8t7TkS9Cw"
   },
   "outputs": [],
   "source": [
    "# Steps:\n",
    "# Convert the data into numerical format --> OneHotEncoding\n",
    "# build frequent itemsets\n",
    "# Generate association rules\n",
    "\n",
    "from mlxtend.preprocessing import TransactionEncoder\n",
    "one_hot_encoding = TransactionEncoder()\n",
    "\n",
    "one_hot_txns = one_hot_encoding.fit(all_txns).transform(all_txns)"
   ]
  },
  {
   "cell_type": "code",
   "execution_count": null,
   "metadata": {
    "colab": {
     "base_uri": "https://localhost:8080/"
    },
    "executionInfo": {
     "elapsed": 18,
     "status": "ok",
     "timestamp": 1673102330968,
     "user": {
      "displayName": "KIPTURN Techno Solutions",
      "userId": "01744339202873123277"
     },
     "user_tz": -330
    },
    "id": "mcVKHczsq18W",
    "outputId": "a92df627-86f4-42c1-c3b6-889e9fcf096f"
   },
   "outputs": [],
   "source": [
    "one_hot_txns"
   ]
  },
  {
   "cell_type": "code",
   "execution_count": null,
   "metadata": {
    "colab": {
     "base_uri": "https://localhost:8080/"
    },
    "executionInfo": {
     "elapsed": 377,
     "status": "ok",
     "timestamp": 1673102409044,
     "user": {
      "displayName": "KIPTURN Techno Solutions",
      "userId": "01744339202873123277"
     },
     "user_tz": -330
    },
    "id": "XkRfMtv0TkDR",
    "outputId": "643b0295-642f-433b-afa3-f44a5eab2b25"
   },
   "outputs": [],
   "source": [
    "# Total 500 unique\n",
    "# build a table with 500 columns and the same number of txns\n",
    "len(one_hot_encoding.columns_)"
   ]
  },
  {
   "cell_type": "code",
   "execution_count": null,
   "metadata": {
    "colab": {
     "base_uri": "https://localhost:8080/"
    },
    "executionInfo": {
     "elapsed": 406,
     "status": "ok",
     "timestamp": 1673102427533,
     "user": {
      "displayName": "KIPTURN Techno Solutions",
      "userId": "01744339202873123277"
     },
     "user_tz": -330
    },
    "id": "LFY21xeGT3R2",
    "outputId": "7875c7d9-78e9-48ac-dc59-c39843d76a95"
   },
   "outputs": [],
   "source": [
    "type(one_hot_txns)"
   ]
  },
  {
   "cell_type": "code",
   "execution_count": null,
   "metadata": {
    "colab": {
     "base_uri": "https://localhost:8080/"
    },
    "executionInfo": {
     "elapsed": 11,
     "status": "ok",
     "timestamp": 1673102436788,
     "user": {
      "displayName": "KIPTURN Techno Solutions",
      "userId": "01744339202873123277"
     },
     "user_tz": -330
    },
    "id": "vHpjQmnwUDvk",
    "outputId": "d19255a3-0e68-4cc9-bb0a-da9aeb0d8b28"
   },
   "outputs": [],
   "source": [
    "one_hot_txns.dtype"
   ]
  },
  {
   "cell_type": "code",
   "execution_count": null,
   "metadata": {
    "colab": {
     "base_uri": "https://localhost:8080/"
    },
    "executionInfo": {
     "elapsed": 488,
     "status": "ok",
     "timestamp": 1673102441071,
     "user": {
      "displayName": "KIPTURN Techno Solutions",
      "userId": "01744339202873123277"
     },
     "user_tz": -330
    },
    "id": "qD4YU0WZULUi",
    "outputId": "5d1ab451-8a77-434b-ef03-cc54cb97bdfb"
   },
   "outputs": [],
   "source": [
    "one_hot_txns"
   ]
  },
  {
   "cell_type": "code",
   "execution_count": null,
   "metadata": {
    "colab": {
     "base_uri": "https://localhost:8080/"
    },
    "executionInfo": {
     "elapsed": 765,
     "status": "ok",
     "timestamp": 1673102490204,
     "user": {
      "displayName": "KIPTURN Techno Solutions",
      "userId": "01744339202873123277"
     },
     "user_tz": -330
    },
    "id": "BGEx-koHUIFA",
    "outputId": "336a8b95-c6ac-46be-88ad-b6bc493b3f9f"
   },
   "outputs": [],
   "source": [
    "one_hot_txns = one_hot_txns.astype('int')\n",
    "one_hot_txns"
   ]
  },
  {
   "cell_type": "code",
   "execution_count": null,
   "metadata": {
    "colab": {
     "base_uri": "https://localhost:8080/",
     "height": 334
    },
    "executionInfo": {
     "elapsed": 405,
     "status": "ok",
     "timestamp": 1673102604901,
     "user": {
      "displayName": "KIPTURN Techno Solutions",
      "userId": "01744339202873123277"
     },
     "user_tz": -330
    },
    "id": "G6F-hF08UPYy",
    "outputId": "4df6fbdf-ac5e-4435-ea44-7344bc7ffe94"
   },
   "outputs": [],
   "source": [
    "one_hot_txns_df = pd.DataFrame(one_hot_txns, columns = one_hot_encoding.columns_)\n",
    "one_hot_txns_df.head()"
   ]
  },
  {
   "cell_type": "code",
   "execution_count": null,
   "metadata": {
    "colab": {
     "base_uri": "https://localhost:8080/"
    },
    "executionInfo": {
     "elapsed": 411,
     "status": "ok",
     "timestamp": 1673102750488,
     "user": {
      "displayName": "KIPTURN Techno Solutions",
      "userId": "01744339202873123277"
     },
     "user_tz": -330
    },
    "id": "pAo4HV3qUdpQ",
    "outputId": "1cb52709-8f1e-4dc2-94d0-557cf60e5311"
   },
   "outputs": [],
   "source": [
    "content[:2]"
   ]
  },
  {
   "cell_type": "code",
   "execution_count": null,
   "metadata": {
    "executionInfo": {
     "elapsed": 381,
     "status": "ok",
     "timestamp": 1673102933035,
     "user": {
      "displayName": "KIPTURN Techno Solutions",
      "userId": "01744339202873123277"
     },
     "user_tz": -330
    },
    "id": "fUFn5C5OUrku"
   },
   "outputs": [],
   "source": [
    "from mlxtend.frequent_patterns import apriori, association_rules"
   ]
  },
  {
   "cell_type": "code",
   "execution_count": null,
   "metadata": {
    "executionInfo": {
     "elapsed": 358,
     "status": "ok",
     "timestamp": 1673103180032,
     "user": {
      "displayName": "KIPTURN Techno Solutions",
      "userId": "01744339202873123277"
     },
     "user_tz": -330
    },
    "id": "6Vd3LlkmUUzx"
   },
   "outputs": [],
   "source": [
    "# Step 2 --> frequent itemsets\n",
    "frequent_itemsets = apriori(one_hot_txns_df, min_support=0.03, use_colnames=True)"
   ]
  },
  {
   "cell_type": "code",
   "execution_count": null,
   "metadata": {
    "colab": {
     "base_uri": "https://localhost:8080/",
     "height": 424
    },
    "executionInfo": {
     "elapsed": 387,
     "status": "ok",
     "timestamp": 1673103305738,
     "user": {
      "displayName": "KIPTURN Techno Solutions",
      "userId": "01744339202873123277"
     },
     "user_tz": -330
    },
    "id": "5M_uKbwQU8W3",
    "outputId": "166bf923-9326-4d20-bc91-2ea9de61f650"
   },
   "outputs": [],
   "source": [
    "frequent_itemsets"
   ]
  },
  {
   "cell_type": "code",
   "execution_count": null,
   "metadata": {
    "executionInfo": {
     "elapsed": 360,
     "status": "ok",
     "timestamp": 1673103597076,
     "user": {
      "displayName": "KIPTURN Techno Solutions",
      "userId": "01744339202873123277"
     },
     "user_tz": -330
    },
    "id": "yTxxgLZ1U-K1"
   },
   "outputs": [],
   "source": [
    "#Step\n",
    "rules = association_rules(frequent_itemsets,metric='lift',min_threshold=1.1)"
   ]
  },
  {
   "cell_type": "code",
   "execution_count": null,
   "metadata": {
    "colab": {
     "base_uri": "https://localhost:8080/",
     "height": 340
    },
    "executionInfo": {
     "elapsed": 20,
     "status": "ok",
     "timestamp": 1673103599396,
     "user": {
      "displayName": "KIPTURN Techno Solutions",
      "userId": "01744339202873123277"
     },
     "user_tz": -330
    },
    "id": "8r-w5y8du87t",
    "outputId": "4e167837-5316-4da1-849a-53657894b3aa"
   },
   "outputs": [],
   "source": [
    "rules.head()"
   ]
  },
  {
   "cell_type": "code",
   "execution_count": null,
   "metadata": {
    "colab": {
     "base_uri": "https://localhost:8080/",
     "height": 1000
    },
    "executionInfo": {
     "elapsed": 22,
     "status": "ok",
     "timestamp": 1673103613721,
     "user": {
      "displayName": "KIPTURN Techno Solutions",
      "userId": "01744339202873123277"
     },
     "user_tz": -330
    },
    "id": "eJm88uq_VRhS",
    "outputId": "203c4b99-91b6-476d-925f-02440cf0fb93"
   },
   "outputs": [],
   "source": [
    "rules.sort_values('lift',ascending=False)"
   ]
  },
  {
   "cell_type": "code",
   "execution_count": null,
   "metadata": {
    "id": "h0toCQk0VR52"
   },
   "outputs": [],
   "source": []
  }
 ],
 "metadata": {
  "colab": {
   "provenance": []
  },
  "kernelspec": {
   "display_name": "Python 3 (ipykernel)",
   "language": "python",
   "name": "python3"
  },
  "language_info": {
   "codemirror_mode": {
    "name": "ipython",
    "version": 3
   },
   "file_extension": ".py",
   "mimetype": "text/x-python",
   "name": "python",
   "nbconvert_exporter": "python",
   "pygments_lexer": "ipython3",
   "version": "3.9.7"
  }
 },
 "nbformat": 4,
 "nbformat_minor": 1
}
